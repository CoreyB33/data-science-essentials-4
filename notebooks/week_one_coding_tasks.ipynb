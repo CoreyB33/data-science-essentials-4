{
 "cells": [
  {
   "cell_type": "markdown",
   "metadata": {},
   "source": [
    "Read in the Hospitals dataset"
   ]
  },
  {
   "cell_type": "code",
   "execution_count": null,
   "metadata": {},
   "outputs": [],
   "source": [
    "import pandas as pd\n",
    "hospitals = pd.read_csv(\"../data/Hospitals.csv\")"
   ]
  },
  {
   "cell_type": "markdown",
   "metadata": {},
   "source": [
    "Look into the first few rows and last few rows"
   ]
  },
  {
   "cell_type": "code",
   "execution_count": 8,
   "metadata": {},
   "outputs": [
    {
     "data": {
      "text/html": [
       "<div>\n",
       "<style scoped>\n",
       "    .dataframe tbody tr th:only-of-type {\n",
       "        vertical-align: middle;\n",
       "    }\n",
       "\n",
       "    .dataframe tbody tr th {\n",
       "        vertical-align: top;\n",
       "    }\n",
       "\n",
       "    .dataframe thead th {\n",
       "        text-align: right;\n",
       "    }\n",
       "</style>\n",
       "<table border=\"1\" class=\"dataframe\">\n",
       "  <thead>\n",
       "    <tr style=\"text-align: right;\">\n",
       "      <th></th>\n",
       "      <th>X</th>\n",
       "      <th>Y</th>\n",
       "      <th>OBJECTID</th>\n",
       "      <th>ID</th>\n",
       "      <th>NAME</th>\n",
       "      <th>ADDRESS</th>\n",
       "      <th>CITY</th>\n",
       "      <th>STATE</th>\n",
       "      <th>ZIP</th>\n",
       "      <th>ZIP4</th>\n",
       "      <th>...</th>\n",
       "      <th>VAL_DATE</th>\n",
       "      <th>WEBSITE</th>\n",
       "      <th>STATE_ID</th>\n",
       "      <th>ALT_NAME</th>\n",
       "      <th>ST_FIPS</th>\n",
       "      <th>OWNER</th>\n",
       "      <th>TTL_STAFF</th>\n",
       "      <th>BEDS</th>\n",
       "      <th>TRAUMA</th>\n",
       "      <th>HELIPAD</th>\n",
       "    </tr>\n",
       "  </thead>\n",
       "  <tbody>\n",
       "    <tr>\n",
       "      <td>0</td>\n",
       "      <td>-1.331889e+07</td>\n",
       "      <td>4.346975e+06</td>\n",
       "      <td>1</td>\n",
       "      <td>5793230</td>\n",
       "      <td>CENTRAL VALLEY GENERAL HOSPITAL</td>\n",
       "      <td>1025 NORTH DOUTY STREET</td>\n",
       "      <td>HANFORD</td>\n",
       "      <td>CA</td>\n",
       "      <td>93230</td>\n",
       "      <td>NOT AVAILABLE</td>\n",
       "      <td>...</td>\n",
       "      <td>2014/02/10 00:00:00</td>\n",
       "      <td>http://www.hanfordhealth.com</td>\n",
       "      <td>NOT AVAILABLE</td>\n",
       "      <td>NOT AVAILABLE</td>\n",
       "      <td>6</td>\n",
       "      <td>PROPRIETARY</td>\n",
       "      <td>-999</td>\n",
       "      <td>49</td>\n",
       "      <td>NOT AVAILABLE</td>\n",
       "      <td>N</td>\n",
       "    </tr>\n",
       "    <tr>\n",
       "      <td>1</td>\n",
       "      <td>-1.322651e+07</td>\n",
       "      <td>4.049626e+06</td>\n",
       "      <td>2</td>\n",
       "      <td>53391362</td>\n",
       "      <td>LOS ROBLES HOSPITAL &amp; MEDICAL CENTER - EAST CA...</td>\n",
       "      <td>150 VIA MERIDA</td>\n",
       "      <td>WESTLAKE VILAGE</td>\n",
       "      <td>CA</td>\n",
       "      <td>91362</td>\n",
       "      <td>NOT AVAILABLE</td>\n",
       "      <td>...</td>\n",
       "      <td>2014/02/10 00:00:00</td>\n",
       "      <td>http://www.losrobleshospital.com</td>\n",
       "      <td>NOT AVAILABLE</td>\n",
       "      <td>NOT AVAILABLE</td>\n",
       "      <td>6</td>\n",
       "      <td>PROPRIETARY</td>\n",
       "      <td>-999</td>\n",
       "      <td>62</td>\n",
       "      <td>NOT AVAILABLE</td>\n",
       "      <td>N</td>\n",
       "    </tr>\n",
       "    <tr>\n",
       "      <td>2</td>\n",
       "      <td>-1.315620e+07</td>\n",
       "      <td>4.031978e+06</td>\n",
       "      <td>3</td>\n",
       "      <td>11190023</td>\n",
       "      <td>EAST LOS ANGELES DOCTORS HOSPITAL</td>\n",
       "      <td>4060 WHITTIER BOULEVARD</td>\n",
       "      <td>LOS ANGELES</td>\n",
       "      <td>CA</td>\n",
       "      <td>90023</td>\n",
       "      <td>NOT AVAILABLE</td>\n",
       "      <td>...</td>\n",
       "      <td>2014/02/10 00:00:00</td>\n",
       "      <td>http://www.elalax.com</td>\n",
       "      <td>NOT AVAILABLE</td>\n",
       "      <td>NOT AVAILABLE</td>\n",
       "      <td>6</td>\n",
       "      <td>PROPRIETARY</td>\n",
       "      <td>-999</td>\n",
       "      <td>127</td>\n",
       "      <td>NOT AVAILABLE</td>\n",
       "      <td>N</td>\n",
       "    </tr>\n",
       "    <tr>\n",
       "      <td>3</td>\n",
       "      <td>-1.317190e+07</td>\n",
       "      <td>4.041752e+06</td>\n",
       "      <td>4</td>\n",
       "      <td>17090028</td>\n",
       "      <td>SOUTHERN CALIFORNIA HOSPITAL AT HOLLYWOOD</td>\n",
       "      <td>6245 DE LONGPRE AVENUE</td>\n",
       "      <td>HOLLYWOOD</td>\n",
       "      <td>CA</td>\n",
       "      <td>90028</td>\n",
       "      <td>NOT AVAILABLE</td>\n",
       "      <td>...</td>\n",
       "      <td>2014/02/10 00:00:00</td>\n",
       "      <td>http://sch-hollywood.com/</td>\n",
       "      <td>NOT AVAILABLE</td>\n",
       "      <td>HOLLYWOOD COMMUNITY HOSPITAL OF HOLLYWOOD</td>\n",
       "      <td>6</td>\n",
       "      <td>PROPRIETARY</td>\n",
       "      <td>-999</td>\n",
       "      <td>100</td>\n",
       "      <td>NOT AVAILABLE</td>\n",
       "      <td>N</td>\n",
       "    </tr>\n",
       "    <tr>\n",
       "      <td>4</td>\n",
       "      <td>-1.313208e+07</td>\n",
       "      <td>4.037270e+06</td>\n",
       "      <td>5</td>\n",
       "      <td>23691706</td>\n",
       "      <td>KINDRED HOSPITAL BALDWIN PARK</td>\n",
       "      <td>14148 FRANCISQUITO AVENUE</td>\n",
       "      <td>BALDWIN PARK</td>\n",
       "      <td>CA</td>\n",
       "      <td>91706</td>\n",
       "      <td>NOT AVAILABLE</td>\n",
       "      <td>...</td>\n",
       "      <td>2014/02/10 00:00:00</td>\n",
       "      <td>http://www.khbaldwinpark.com</td>\n",
       "      <td>NOT AVAILABLE</td>\n",
       "      <td>NOT AVAILABLE</td>\n",
       "      <td>6</td>\n",
       "      <td>PROPRIETARY</td>\n",
       "      <td>-999</td>\n",
       "      <td>95</td>\n",
       "      <td>NOT AVAILABLE</td>\n",
       "      <td>N</td>\n",
       "    </tr>\n",
       "  </tbody>\n",
       "</table>\n",
       "<p>5 rows × 34 columns</p>\n",
       "</div>"
      ],
      "text/plain": [
       "              X             Y  OBJECTID        ID  \\\n",
       "0 -1.331889e+07  4.346975e+06         1   5793230   \n",
       "1 -1.322651e+07  4.049626e+06         2  53391362   \n",
       "2 -1.315620e+07  4.031978e+06         3  11190023   \n",
       "3 -1.317190e+07  4.041752e+06         4  17090028   \n",
       "4 -1.313208e+07  4.037270e+06         5  23691706   \n",
       "\n",
       "                                                NAME  \\\n",
       "0                    CENTRAL VALLEY GENERAL HOSPITAL   \n",
       "1  LOS ROBLES HOSPITAL & MEDICAL CENTER - EAST CA...   \n",
       "2                  EAST LOS ANGELES DOCTORS HOSPITAL   \n",
       "3          SOUTHERN CALIFORNIA HOSPITAL AT HOLLYWOOD   \n",
       "4                      KINDRED HOSPITAL BALDWIN PARK   \n",
       "\n",
       "                     ADDRESS             CITY STATE    ZIP           ZIP4  \\\n",
       "0    1025 NORTH DOUTY STREET          HANFORD    CA  93230  NOT AVAILABLE   \n",
       "1             150 VIA MERIDA  WESTLAKE VILAGE    CA  91362  NOT AVAILABLE   \n",
       "2    4060 WHITTIER BOULEVARD      LOS ANGELES    CA  90023  NOT AVAILABLE   \n",
       "3     6245 DE LONGPRE AVENUE        HOLLYWOOD    CA  90028  NOT AVAILABLE   \n",
       "4  14148 FRANCISQUITO AVENUE     BALDWIN PARK    CA  91706  NOT AVAILABLE   \n",
       "\n",
       "   ...             VAL_DATE                           WEBSITE       STATE_ID  \\\n",
       "0  ...  2014/02/10 00:00:00      http://www.hanfordhealth.com  NOT AVAILABLE   \n",
       "1  ...  2014/02/10 00:00:00  http://www.losrobleshospital.com  NOT AVAILABLE   \n",
       "2  ...  2014/02/10 00:00:00             http://www.elalax.com  NOT AVAILABLE   \n",
       "3  ...  2014/02/10 00:00:00         http://sch-hollywood.com/  NOT AVAILABLE   \n",
       "4  ...  2014/02/10 00:00:00      http://www.khbaldwinpark.com  NOT AVAILABLE   \n",
       "\n",
       "                                    ALT_NAME ST_FIPS        OWNER TTL_STAFF  \\\n",
       "0                              NOT AVAILABLE       6  PROPRIETARY      -999   \n",
       "1                              NOT AVAILABLE       6  PROPRIETARY      -999   \n",
       "2                              NOT AVAILABLE       6  PROPRIETARY      -999   \n",
       "3  HOLLYWOOD COMMUNITY HOSPITAL OF HOLLYWOOD       6  PROPRIETARY      -999   \n",
       "4                              NOT AVAILABLE       6  PROPRIETARY      -999   \n",
       "\n",
       "   BEDS         TRAUMA  HELIPAD  \n",
       "0    49  NOT AVAILABLE        N  \n",
       "1    62  NOT AVAILABLE        N  \n",
       "2   127  NOT AVAILABLE        N  \n",
       "3   100  NOT AVAILABLE        N  \n",
       "4    95  NOT AVAILABLE        N  \n",
       "\n",
       "[5 rows x 34 columns]"
      ]
     },
     "execution_count": 8,
     "metadata": {},
     "output_type": "execute_result"
    }
   ],
   "source": [
    "hospitals.head()"
   ]
  },
  {
   "cell_type": "code",
   "execution_count": 9,
   "metadata": {},
   "outputs": [
    {
     "data": {
      "text/html": [
       "<div>\n",
       "<style scoped>\n",
       "    .dataframe tbody tr th:only-of-type {\n",
       "        vertical-align: middle;\n",
       "    }\n",
       "\n",
       "    .dataframe tbody tr th {\n",
       "        vertical-align: top;\n",
       "    }\n",
       "\n",
       "    .dataframe thead th {\n",
       "        text-align: right;\n",
       "    }\n",
       "</style>\n",
       "<table border=\"1\" class=\"dataframe\">\n",
       "  <thead>\n",
       "    <tr style=\"text-align: right;\">\n",
       "      <th></th>\n",
       "      <th>X</th>\n",
       "      <th>Y</th>\n",
       "      <th>OBJECTID</th>\n",
       "      <th>ID</th>\n",
       "      <th>NAME</th>\n",
       "      <th>ADDRESS</th>\n",
       "      <th>CITY</th>\n",
       "      <th>STATE</th>\n",
       "      <th>ZIP</th>\n",
       "      <th>ZIP4</th>\n",
       "      <th>...</th>\n",
       "      <th>VAL_DATE</th>\n",
       "      <th>WEBSITE</th>\n",
       "      <th>STATE_ID</th>\n",
       "      <th>ALT_NAME</th>\n",
       "      <th>ST_FIPS</th>\n",
       "      <th>OWNER</th>\n",
       "      <th>TTL_STAFF</th>\n",
       "      <th>BEDS</th>\n",
       "      <th>TRAUMA</th>\n",
       "      <th>HELIPAD</th>\n",
       "    </tr>\n",
       "  </thead>\n",
       "  <tbody>\n",
       "    <tr>\n",
       "      <td>7591</td>\n",
       "      <td>-8.566905e+06</td>\n",
       "      <td>4.728815e+06</td>\n",
       "      <td>7607</td>\n",
       "      <td>183520904</td>\n",
       "      <td>ADVENTIST HEALTHCARE WHITE OAK MEDICAL CENTER</td>\n",
       "      <td>11890 HEALING WAY</td>\n",
       "      <td>SILVER SPRING</td>\n",
       "      <td>MD</td>\n",
       "      <td>20904</td>\n",
       "      <td>NOT AVAILABLE</td>\n",
       "      <td>...</td>\n",
       "      <td>2020/05/05 00:00:00</td>\n",
       "      <td>https://www.adventisthealthcare.com/locations/...</td>\n",
       "      <td>NOT AVAILABLE</td>\n",
       "      <td>NOT AVAILABLE</td>\n",
       "      <td>24</td>\n",
       "      <td>NON-PROFIT</td>\n",
       "      <td>-999</td>\n",
       "      <td>178</td>\n",
       "      <td>NOT AVAILABLE</td>\n",
       "      <td>N</td>\n",
       "    </tr>\n",
       "    <tr>\n",
       "      <td>7592</td>\n",
       "      <td>-1.219624e+07</td>\n",
       "      <td>3.676931e+06</td>\n",
       "      <td>7608</td>\n",
       "      <td>192185607</td>\n",
       "      <td>COPPER QUEEN DOUGLAS EMERGENCY DEPARTMENT</td>\n",
       "      <td>100 E. 5TH STREET</td>\n",
       "      <td>DOUGLAS</td>\n",
       "      <td>AZ</td>\n",
       "      <td>85607</td>\n",
       "      <td>NOT AVAILABLE</td>\n",
       "      <td>...</td>\n",
       "      <td>2020/05/05 00:00:00</td>\n",
       "      <td>https://cqch.org/cqch-clinics/copper-queen-dou...</td>\n",
       "      <td>NOT AVAILABLE</td>\n",
       "      <td>NOT AVAILABLE</td>\n",
       "      <td>4</td>\n",
       "      <td>NON-PROFIT</td>\n",
       "      <td>-999</td>\n",
       "      <td>-999</td>\n",
       "      <td>LEVEL IV</td>\n",
       "      <td>N</td>\n",
       "    </tr>\n",
       "    <tr>\n",
       "      <td>7593</td>\n",
       "      <td>-8.084677e+06</td>\n",
       "      <td>5.094112e+06</td>\n",
       "      <td>7609</td>\n",
       "      <td>196706457</td>\n",
       "      <td>WHITING FORENSIC HOSPITAL</td>\n",
       "      <td>70 OBRIEN DR</td>\n",
       "      <td>MIDDLETOWN</td>\n",
       "      <td>CT</td>\n",
       "      <td>6457</td>\n",
       "      <td>3945</td>\n",
       "      <td>...</td>\n",
       "      <td>2020/05/08 00:00:00</td>\n",
       "      <td>https://portal.ct.gov/dmhas/wfh/whiting-forens...</td>\n",
       "      <td>NOT AVAILABLE</td>\n",
       "      <td>NOT AVAILABLE</td>\n",
       "      <td>9</td>\n",
       "      <td>GOVERNMENT - STATE</td>\n",
       "      <td>-999</td>\n",
       "      <td>229</td>\n",
       "      <td>NOT AVAILABLE</td>\n",
       "      <td>N</td>\n",
       "    </tr>\n",
       "    <tr>\n",
       "      <td>7594</td>\n",
       "      <td>-8.522423e+06</td>\n",
       "      <td>4.718512e+06</td>\n",
       "      <td>7610</td>\n",
       "      <td>191021401</td>\n",
       "      <td>J KENT MCNEW FAMILY MEDICAL CENTER</td>\n",
       "      <td>175 HARRY S TRUMAN PARKWAY</td>\n",
       "      <td>ANNAPOLIS</td>\n",
       "      <td>MD</td>\n",
       "      <td>21401</td>\n",
       "      <td>NOT AVAILABLE</td>\n",
       "      <td>...</td>\n",
       "      <td>2020/05/05 00:00:00</td>\n",
       "      <td>https://aahs.org/locations/j--kent-mcnew-famil...</td>\n",
       "      <td>NOT AVAILABLE</td>\n",
       "      <td>NOT AVAILABLE</td>\n",
       "      <td>24</td>\n",
       "      <td>NON-PROFIT</td>\n",
       "      <td>-999</td>\n",
       "      <td>-999</td>\n",
       "      <td>NOT AVAILABLE</td>\n",
       "      <td>N</td>\n",
       "    </tr>\n",
       "    <tr>\n",
       "      <td>7595</td>\n",
       "      <td>-1.244921e+07</td>\n",
       "      <td>4.976468e+06</td>\n",
       "      <td>7611</td>\n",
       "      <td>196784108</td>\n",
       "      <td>UNIVERSITY ORTHOPAEDIC CENTER</td>\n",
       "      <td>590 WAKARA WAY</td>\n",
       "      <td>SALT LAKE CITY</td>\n",
       "      <td>UT</td>\n",
       "      <td>84108</td>\n",
       "      <td>NOT AVAILABLE</td>\n",
       "      <td>...</td>\n",
       "      <td>2020/05/05 00:00:00</td>\n",
       "      <td>https://healthcare.utah.edu/orthopaedics/</td>\n",
       "      <td>NOT AVAILABLE</td>\n",
       "      <td>NOT AVAILABLE</td>\n",
       "      <td>49</td>\n",
       "      <td>GOVERNMENT - STATE</td>\n",
       "      <td>-999</td>\n",
       "      <td>-999</td>\n",
       "      <td>NOT AVAILABLE</td>\n",
       "      <td>N</td>\n",
       "    </tr>\n",
       "  </tbody>\n",
       "</table>\n",
       "<p>5 rows × 34 columns</p>\n",
       "</div>"
      ],
      "text/plain": [
       "                 X             Y  OBJECTID         ID  \\\n",
       "7591 -8.566905e+06  4.728815e+06      7607  183520904   \n",
       "7592 -1.219624e+07  3.676931e+06      7608  192185607   \n",
       "7593 -8.084677e+06  5.094112e+06      7609  196706457   \n",
       "7594 -8.522423e+06  4.718512e+06      7610  191021401   \n",
       "7595 -1.244921e+07  4.976468e+06      7611  196784108   \n",
       "\n",
       "                                               NAME  \\\n",
       "7591  ADVENTIST HEALTHCARE WHITE OAK MEDICAL CENTER   \n",
       "7592      COPPER QUEEN DOUGLAS EMERGENCY DEPARTMENT   \n",
       "7593                      WHITING FORENSIC HOSPITAL   \n",
       "7594             J KENT MCNEW FAMILY MEDICAL CENTER   \n",
       "7595                  UNIVERSITY ORTHOPAEDIC CENTER   \n",
       "\n",
       "                         ADDRESS            CITY STATE    ZIP           ZIP4  \\\n",
       "7591           11890 HEALING WAY   SILVER SPRING    MD  20904  NOT AVAILABLE   \n",
       "7592           100 E. 5TH STREET         DOUGLAS    AZ  85607  NOT AVAILABLE   \n",
       "7593                70 OBRIEN DR      MIDDLETOWN    CT   6457           3945   \n",
       "7594  175 HARRY S TRUMAN PARKWAY       ANNAPOLIS    MD  21401  NOT AVAILABLE   \n",
       "7595              590 WAKARA WAY  SALT LAKE CITY    UT  84108  NOT AVAILABLE   \n",
       "\n",
       "      ...             VAL_DATE  \\\n",
       "7591  ...  2020/05/05 00:00:00   \n",
       "7592  ...  2020/05/05 00:00:00   \n",
       "7593  ...  2020/05/08 00:00:00   \n",
       "7594  ...  2020/05/05 00:00:00   \n",
       "7595  ...  2020/05/05 00:00:00   \n",
       "\n",
       "                                                WEBSITE       STATE_ID  \\\n",
       "7591  https://www.adventisthealthcare.com/locations/...  NOT AVAILABLE   \n",
       "7592  https://cqch.org/cqch-clinics/copper-queen-dou...  NOT AVAILABLE   \n",
       "7593  https://portal.ct.gov/dmhas/wfh/whiting-forens...  NOT AVAILABLE   \n",
       "7594  https://aahs.org/locations/j--kent-mcnew-famil...  NOT AVAILABLE   \n",
       "7595          https://healthcare.utah.edu/orthopaedics/  NOT AVAILABLE   \n",
       "\n",
       "           ALT_NAME ST_FIPS               OWNER TTL_STAFF  BEDS  \\\n",
       "7591  NOT AVAILABLE      24          NON-PROFIT      -999   178   \n",
       "7592  NOT AVAILABLE       4          NON-PROFIT      -999  -999   \n",
       "7593  NOT AVAILABLE       9  GOVERNMENT - STATE      -999   229   \n",
       "7594  NOT AVAILABLE      24          NON-PROFIT      -999  -999   \n",
       "7595  NOT AVAILABLE      49  GOVERNMENT - STATE      -999  -999   \n",
       "\n",
       "             TRAUMA  HELIPAD  \n",
       "7591  NOT AVAILABLE        N  \n",
       "7592       LEVEL IV        N  \n",
       "7593  NOT AVAILABLE        N  \n",
       "7594  NOT AVAILABLE        N  \n",
       "7595  NOT AVAILABLE        N  \n",
       "\n",
       "[5 rows x 34 columns]"
      ]
     },
     "execution_count": 9,
     "metadata": {},
     "output_type": "execute_result"
    }
   ],
   "source": [
    "hospitals.tail()"
   ]
  },
  {
   "cell_type": "markdown",
   "metadata": {},
   "source": [
    "By looking at the first few rows and last few rows we can see that the dataset has information on hospitals from all over the United States"
   ]
  },
  {
   "cell_type": "code",
   "execution_count": 1,
   "metadata": {},
   "outputs": [
    {
     "ename": "NameError",
     "evalue": "name 'hospitals' is not defined",
     "output_type": "error",
     "traceback": [
      "\u001b[1;31m---------------------------------------------------------------------------\u001b[0m",
      "\u001b[1;31mNameError\u001b[0m                                 Traceback (most recent call last)",
      "\u001b[1;32m<ipython-input-1-87596430b98f>\u001b[0m in \u001b[0;36m<module>\u001b[1;34m\u001b[0m\n\u001b[1;32m----> 1\u001b[1;33m \u001b[0mhospitals\u001b[0m\u001b[1;33m.\u001b[0m\u001b[0mshape\u001b[0m\u001b[1;33m\u001b[0m\u001b[1;33m\u001b[0m\u001b[0m\n\u001b[0m",
      "\u001b[1;31mNameError\u001b[0m: name 'hospitals' is not defined"
     ]
    }
   ],
   "source": [
    "hospitals.shape"
   ]
  },
  {
   "cell_type": "markdown",
   "metadata": {},
   "source": [
    "The hospitals dataframe has 7597 rows and 34 columns"
   ]
  },
  {
   "cell_type": "code",
   "execution_count": 13,
   "metadata": {},
   "outputs": [],
   "source": [
    "hospitals = hospitals[['NAME', 'ADDRESS', 'CITY', 'STATE', 'TYPE',  'POPULATION', 'COUNTY', 'COUNTYFIPS', 'NAICS_DESC', 'BEDS']]"
   ]
  },
  {
   "cell_type": "code",
   "execution_count": 15,
   "metadata": {},
   "outputs": [],
   "source": [
    "hospital_types = hospitals[\"TYPE\"].unique()"
   ]
  },
  {
   "cell_type": "code",
   "execution_count": 16,
   "metadata": {},
   "outputs": [
    {
     "name": "stdout",
     "output_type": "stream",
     "text": [
      "['GENERAL ACUTE CARE' 'PSYCHIATRIC' 'CHILDREN' 'LONG TERM CARE'\n",
      " 'CRITICAL ACCESS' 'REHABILITATION' 'MILITARY' 'WOMEN' 'SPECIAL'\n",
      " 'CHRONIC DISEASE']\n"
     ]
    }
   ],
   "source": [
    "print(hospital_types)"
   ]
  },
  {
   "cell_type": "markdown",
   "metadata": {},
   "source": [
    "The hospital types are: 'GENERAL ACUTE CARE' 'PSYCHIATRIC' 'CHILDREN' 'LONG TERM CARE'\n",
    " 'CRITICAL ACCESS' 'REHABILITATION' 'MILITARY' 'WOMEN' 'SPECIAL'\n",
    " 'CHRONIC DISEASE'"
   ]
  },
  {
   "cell_type": "code",
   "execution_count": 18,
   "metadata": {},
   "outputs": [
    {
     "data": {
      "text/plain": [
       "GENERAL ACUTE CARE    4481\n",
       "CRITICAL ACCESS       1027\n",
       "PSYCHIATRIC            759\n",
       "LONG TERM CARE         431\n",
       "REHABILITATION         378\n",
       "MILITARY               216\n",
       "SPECIAL                145\n",
       "CHILDREN               130\n",
       "WOMEN                   20\n",
       "CHRONIC DISEASE          9\n",
       "Name: TYPE, dtype: int64"
      ]
     },
     "execution_count": 18,
     "metadata": {},
     "output_type": "execute_result"
    }
   ],
   "source": [
    "hospitals[\"TYPE\"].value_counts()"
   ]
  },
  {
   "cell_type": "markdown",
   "metadata": {},
   "source": [
    "General Acute Care is the most common type of hospital"
   ]
  },
  {
   "cell_type": "code",
   "execution_count": 22,
   "metadata": {},
   "outputs": [],
   "source": [
    "nash_hospitals = hospitals.loc[hospitals[\"CITY\"]==\"NASHVILLE\"]"
   ]
  },
  {
   "cell_type": "code",
   "execution_count": 24,
   "metadata": {},
   "outputs": [
    {
     "name": "stdout",
     "output_type": "stream",
     "text": [
      "545      213\n",
      "2083      63\n",
      "3449      70\n",
      "3485      60\n",
      "3780      50\n",
      "4253      20\n",
      "5429    -999\n",
      "5433     150\n",
      "6289     683\n",
      "6293      80\n",
      "6661     493\n",
      "6774      23\n",
      "6777     541\n",
      "6786     126\n",
      "6808     733\n",
      "6813    1091\n",
      "Name: BEDS, dtype: int64\n"
     ]
    }
   ],
   "source": [
    "print(nash_hospitals[\"BEDS\"])"
   ]
  },
  {
   "cell_type": "markdown",
   "metadata": {},
   "source": [
    "One of the beds values is -999. This probably indicates that no value exists for \"BEDS\" for that particular hospital."
   ]
  },
  {
   "cell_type": "code",
   "execution_count": 29,
   "metadata": {},
   "outputs": [],
   "source": [
    "tenn_hospitals = hospitals.loc[hospitals[\"STATE\"]==\"TN\"]"
   ]
  },
  {
   "cell_type": "code",
   "execution_count": 30,
   "metadata": {},
   "outputs": [
    {
     "data": {
      "text/plain": [
       "SHELBY        23\n",
       "DAVIDSON      15\n",
       "HAMILTON      13\n",
       "KNOX          11\n",
       "WASHINGTON     6\n",
       "              ..\n",
       "HAWKINS        1\n",
       "OBION          1\n",
       "HENRY          1\n",
       "CLAY           1\n",
       "JEFFERSON      1\n",
       "Name: COUNTY, Length: 80, dtype: int64"
      ]
     },
     "execution_count": 30,
     "metadata": {},
     "output_type": "execute_result"
    }
   ],
   "source": [
    "tenn_hospitals[\"COUNTY\"].value_counts()"
   ]
  },
  {
   "cell_type": "markdown",
   "metadata": {},
   "source": [
    "Shelby county has the most hospitals with 23"
   ]
  },
  {
   "cell_type": "code",
   "execution_count": 32,
   "metadata": {},
   "outputs": [
    {
     "data": {
      "text/plain": [
       "80"
      ]
     },
     "execution_count": 32,
     "metadata": {},
     "output_type": "execute_result"
    }
   ],
   "source": [
    "tenn_hospitals[\"COUNTY\"].nunique()"
   ]
  },
  {
   "cell_type": "markdown",
   "metadata": {},
   "source": [
    "There are 80 unique counties listed in the Tennessee hospitals database. Therefor, 15 counties have no hospitals at all."
   ]
  }
 ],
 "metadata": {
  "kernelspec": {
   "display_name": "Python 3",
   "language": "python",
   "name": "python3"
  },
  "language_info": {
   "codemirror_mode": {
    "name": "ipython",
    "version": 3
   },
   "file_extension": ".py",
   "mimetype": "text/x-python",
   "name": "python",
   "nbconvert_exporter": "python",
   "pygments_lexer": "ipython3",
   "version": "3.7.4"
  }
 },
 "nbformat": 4,
 "nbformat_minor": 2
}
